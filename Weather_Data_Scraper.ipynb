{
  "cells": [
    {
      "cell_type": "code",
      "execution_count": null,
      "metadata": {
        "id": "zwFnJsE6vjf8",
        "outputId": "76b07934-8445-49f9-f23c-bb13276f1cb1",
        "colab": {
          "base_uri": "https://localhost:8080/"
        }
      },
      "outputs": [
        {
          "output_type": "stream",
          "name": "stdout",
          "text": [
            "Enter the location: kozhikode\n",
            "\n",
            "Weather Data for Kozhikode\n",
            "\n",
            "Temperature: 34.2 °C\n",
            "Condition: Sunny\n",
            "Humidity: 39 g/m3\n",
            "Last Updated: 2025-02-27 15:15\n"
          ]
        }
      ],
      "source": [
        "import requests\n",
        "\n",
        "def get_weather_data(location):\n",
        "    # Your API key from WeatherAPI\n",
        "    api_key = \"03511b737b6943d8821100407250901\"\n",
        "\n",
        "    # WeatherAPI URL for current weather\n",
        "    base_url = \"http://api.weatherapi.com/v1/current.json?\"\n",
        "\n",
        "    # Construct the complete URL with the location and API key\n",
        "    complete_url = f\"{base_url}key={api_key}&q={location}&aqi=no\"\n",
        "\n",
        "    try:\n",
        "        # Make the API request to fetch weather data\n",
        "        response = requests.get(complete_url)\n",
        "\n",
        "        # Check if the response status is OK (200)\n",
        "        if response.status_code == 200:\n",
        "            data = response.json()\n",
        "\n",
        "            # Check if we received valid data\n",
        "            if 'current' not in data:\n",
        "                print(f\"City '{location}' not found.\")\n",
        "                return None\n",
        "\n",
        "            # Extract weather data\n",
        "            current_weather = data['current']\n",
        "\n",
        "            # Get temperature, condition, and humidity\n",
        "            temperature = f\"{current_weather['temp_c']} °C\"  # Celsius temperature\n",
        "            condition = current_weather['condition']['text']  # Weather condition\n",
        "            humidity = f\"{current_weather['humidity']} g/m3\"  # Humidity percentage\n",
        "            last_update = current_weather['last_updated'] # last updated\n",
        "            # Return the weather data as a dictionary\n",
        "            return {\n",
        "                \"Temperature\": temperature,\n",
        "                \"Condition\": condition,\n",
        "\n",
        "                \"Humidity\": humidity,\n",
        "                \"Last Updated\": last_update\n",
        "            }\n",
        "        else:\n",
        "            print(f\"Error fetching weather data for '{location}'. HTTP Status code: {response.status_code}\")\n",
        "            return None\n",
        "\n",
        "    except requests.exceptions.RequestException as e:\n",
        "        print(f\"Error fetching weather data: {e}\")\n",
        "        return None\n",
        "\n",
        "if __name__ == \"__main__\":\n",
        "    # Input location\n",
        "    location = input(\"Enter the location: \").strip()\n",
        "\n",
        "    weather_data = get_weather_data(location)\n",
        "\n",
        "    if weather_data:\n",
        "        print(f\"\\nWeather Data for {location.capitalize()}\\n\")\n",
        "        for key, value in weather_data.items():\n",
        "            print(f\"{key}: {value}\")\n",
        "    else:\n",
        "        print(\"No weather data found.\")\n"
      ]
    },
    {
      "cell_type": "markdown",
      "source": [
        "Submitted by\n",
        "Rineesh M S\n",
        "Adhikesh R S\n",
        "Ajin K J\n",
        "MAriyam Mubeena P"
      ],
      "metadata": {
        "id": "aXEy9NY-zbAa"
      }
    }
  ],
  "metadata": {
    "colab": {
      "toc_visible": true,
      "provenance": []
    },
    "kernelspec": {
      "display_name": "Python 3",
      "name": "python3"
    }
  },
  "nbformat": 4,
  "nbformat_minor": 0
}